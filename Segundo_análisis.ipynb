{
  "nbformat": 4,
  "nbformat_minor": 0,
  "metadata": {
    "colab": {
      "name": "Segundo análisis",
      "provenance": [],
      "collapsed_sections": [],
      "include_colab_link": true
    },
    "kernelspec": {
      "name": "python3",
      "display_name": "Python 3"
    },
    "language_info": {
      "name": "python"
    }
  },
  "cells": [
    {
      "cell_type": "markdown",
      "metadata": {
        "id": "view-in-github",
        "colab_type": "text"
      },
      "source": [
        "<a href=\"https://colab.research.google.com/github/Maria23/An-lisis-enfermedades-cardiovasculares/blob/main/Segundo_an%C3%A1lisis.ipynb\" target=\"_parent\"><img src=\"https://colab.research.google.com/assets/colab-badge.svg\" alt=\"Open In Colab\"/></a>"
      ]
    },
    {
      "cell_type": "markdown",
      "source": [
        "# **Análisis enfermedades cardiovasculares**"
      ],
      "metadata": {
        "id": "gwRjhXwHU45G"
      }
    },
    {
      "cell_type": "markdown",
      "source": [
        "# 1. Carga de datos \n"
      ],
      "metadata": {
        "id": "iYXZBsSrS149"
      }
    },
    {
      "cell_type": "code",
      "execution_count": null,
      "metadata": {
        "id": "Jiai094dzPZX"
      },
      "outputs": [],
      "source": [
        "import pandas as pd\n",
        "import numpy as np\n",
        "import matplotlib.pyplot as plt"
      ]
    },
    {
      "cell_type": "code",
      "source": [
        "#Lectura de datos en Python\n",
        "datos=pd.read_excel('/content/datos2.xlsx')\n",
        "datos"
      ],
      "metadata": {
        "colab": {
          "base_uri": "https://localhost:8080/",
          "height": 424
        },
        "id": "DQp9PdwszSdm",
        "outputId": "49332b65-0464-41e7-d284-b63e44a0e5f9"
      },
      "execution_count": null,
      "outputs": [
        {
          "output_type": "execute_result",
          "data": {
            "text/html": [
              "\n",
              "  <div id=\"df-d56637ff-8676-41c6-bd30-9c951d2b4a95\">\n",
              "    <div class=\"colab-df-container\">\n",
              "      <div>\n",
              "<style scoped>\n",
              "    .dataframe tbody tr th:only-of-type {\n",
              "        vertical-align: middle;\n",
              "    }\n",
              "\n",
              "    .dataframe tbody tr th {\n",
              "        vertical-align: top;\n",
              "    }\n",
              "\n",
              "    .dataframe thead th {\n",
              "        text-align: right;\n",
              "    }\n",
              "</style>\n",
              "<table border=\"1\" class=\"dataframe\">\n",
              "  <thead>\n",
              "    <tr style=\"text-align: right;\">\n",
              "      <th></th>\n",
              "      <th>HeartDisease</th>\n",
              "      <th>BMI</th>\n",
              "      <th>Smoking</th>\n",
              "      <th>AlcoholDrinking</th>\n",
              "      <th>Stroke</th>\n",
              "      <th>PhysicalHealth</th>\n",
              "      <th>MentalHealth</th>\n",
              "      <th>DiffWalking</th>\n",
              "      <th>Sex</th>\n",
              "      <th>AgeCategory</th>\n",
              "      <th>Race</th>\n",
              "      <th>Diabetic</th>\n",
              "      <th>PhysicalActivity</th>\n",
              "      <th>GenHealth</th>\n",
              "      <th>SleepTime</th>\n",
              "      <th>Asthma</th>\n",
              "      <th>KidneyDisease</th>\n",
              "      <th>SkinCancer</th>\n",
              "    </tr>\n",
              "  </thead>\n",
              "  <tbody>\n",
              "    <tr>\n",
              "      <th>0</th>\n",
              "      <td>No</td>\n",
              "      <td>16.60</td>\n",
              "      <td>Yes</td>\n",
              "      <td>No</td>\n",
              "      <td>No</td>\n",
              "      <td>3</td>\n",
              "      <td>30</td>\n",
              "      <td>No</td>\n",
              "      <td>Female</td>\n",
              "      <td>55-59</td>\n",
              "      <td>White</td>\n",
              "      <td>Yes</td>\n",
              "      <td>Yes</td>\n",
              "      <td>Very good</td>\n",
              "      <td>5</td>\n",
              "      <td>Yes</td>\n",
              "      <td>No</td>\n",
              "      <td>Yes</td>\n",
              "    </tr>\n",
              "    <tr>\n",
              "      <th>1</th>\n",
              "      <td>No</td>\n",
              "      <td>20.34</td>\n",
              "      <td>No</td>\n",
              "      <td>No</td>\n",
              "      <td>Yes</td>\n",
              "      <td>0</td>\n",
              "      <td>0</td>\n",
              "      <td>No</td>\n",
              "      <td>Female</td>\n",
              "      <td>80 or older</td>\n",
              "      <td>White</td>\n",
              "      <td>No</td>\n",
              "      <td>Yes</td>\n",
              "      <td>Very good</td>\n",
              "      <td>7</td>\n",
              "      <td>No</td>\n",
              "      <td>No</td>\n",
              "      <td>No</td>\n",
              "    </tr>\n",
              "    <tr>\n",
              "      <th>2</th>\n",
              "      <td>No</td>\n",
              "      <td>26.58</td>\n",
              "      <td>Yes</td>\n",
              "      <td>No</td>\n",
              "      <td>No</td>\n",
              "      <td>20</td>\n",
              "      <td>30</td>\n",
              "      <td>No</td>\n",
              "      <td>Male</td>\n",
              "      <td>65-69</td>\n",
              "      <td>White</td>\n",
              "      <td>Yes</td>\n",
              "      <td>Yes</td>\n",
              "      <td>Fair</td>\n",
              "      <td>8</td>\n",
              "      <td>Yes</td>\n",
              "      <td>No</td>\n",
              "      <td>No</td>\n",
              "    </tr>\n",
              "    <tr>\n",
              "      <th>3</th>\n",
              "      <td>No</td>\n",
              "      <td>24.21</td>\n",
              "      <td>No</td>\n",
              "      <td>No</td>\n",
              "      <td>No</td>\n",
              "      <td>0</td>\n",
              "      <td>0</td>\n",
              "      <td>No</td>\n",
              "      <td>Female</td>\n",
              "      <td>75-79</td>\n",
              "      <td>White</td>\n",
              "      <td>No</td>\n",
              "      <td>No</td>\n",
              "      <td>Good</td>\n",
              "      <td>6</td>\n",
              "      <td>No</td>\n",
              "      <td>No</td>\n",
              "      <td>Yes</td>\n",
              "    </tr>\n",
              "    <tr>\n",
              "      <th>4</th>\n",
              "      <td>No</td>\n",
              "      <td>23.71</td>\n",
              "      <td>No</td>\n",
              "      <td>No</td>\n",
              "      <td>No</td>\n",
              "      <td>28</td>\n",
              "      <td>0</td>\n",
              "      <td>Yes</td>\n",
              "      <td>Female</td>\n",
              "      <td>40-44</td>\n",
              "      <td>White</td>\n",
              "      <td>No</td>\n",
              "      <td>Yes</td>\n",
              "      <td>Very good</td>\n",
              "      <td>8</td>\n",
              "      <td>No</td>\n",
              "      <td>No</td>\n",
              "      <td>No</td>\n",
              "    </tr>\n",
              "    <tr>\n",
              "      <th>...</th>\n",
              "      <td>...</td>\n",
              "      <td>...</td>\n",
              "      <td>...</td>\n",
              "      <td>...</td>\n",
              "      <td>...</td>\n",
              "      <td>...</td>\n",
              "      <td>...</td>\n",
              "      <td>...</td>\n",
              "      <td>...</td>\n",
              "      <td>...</td>\n",
              "      <td>...</td>\n",
              "      <td>...</td>\n",
              "      <td>...</td>\n",
              "      <td>...</td>\n",
              "      <td>...</td>\n",
              "      <td>...</td>\n",
              "      <td>...</td>\n",
              "      <td>...</td>\n",
              "    </tr>\n",
              "    <tr>\n",
              "      <th>319790</th>\n",
              "      <td>Yes</td>\n",
              "      <td>27.41</td>\n",
              "      <td>Yes</td>\n",
              "      <td>No</td>\n",
              "      <td>No</td>\n",
              "      <td>7</td>\n",
              "      <td>0</td>\n",
              "      <td>Yes</td>\n",
              "      <td>Male</td>\n",
              "      <td>60-64</td>\n",
              "      <td>Hispanic</td>\n",
              "      <td>Yes</td>\n",
              "      <td>No</td>\n",
              "      <td>Fair</td>\n",
              "      <td>6</td>\n",
              "      <td>Yes</td>\n",
              "      <td>No</td>\n",
              "      <td>No</td>\n",
              "    </tr>\n",
              "    <tr>\n",
              "      <th>319791</th>\n",
              "      <td>No</td>\n",
              "      <td>29.84</td>\n",
              "      <td>Yes</td>\n",
              "      <td>No</td>\n",
              "      <td>No</td>\n",
              "      <td>0</td>\n",
              "      <td>0</td>\n",
              "      <td>No</td>\n",
              "      <td>Male</td>\n",
              "      <td>35-39</td>\n",
              "      <td>Hispanic</td>\n",
              "      <td>No</td>\n",
              "      <td>Yes</td>\n",
              "      <td>Very good</td>\n",
              "      <td>5</td>\n",
              "      <td>Yes</td>\n",
              "      <td>No</td>\n",
              "      <td>No</td>\n",
              "    </tr>\n",
              "    <tr>\n",
              "      <th>319792</th>\n",
              "      <td>No</td>\n",
              "      <td>24.24</td>\n",
              "      <td>No</td>\n",
              "      <td>No</td>\n",
              "      <td>No</td>\n",
              "      <td>0</td>\n",
              "      <td>0</td>\n",
              "      <td>No</td>\n",
              "      <td>Female</td>\n",
              "      <td>45-49</td>\n",
              "      <td>Hispanic</td>\n",
              "      <td>No</td>\n",
              "      <td>Yes</td>\n",
              "      <td>Good</td>\n",
              "      <td>6</td>\n",
              "      <td>No</td>\n",
              "      <td>No</td>\n",
              "      <td>No</td>\n",
              "    </tr>\n",
              "    <tr>\n",
              "      <th>319793</th>\n",
              "      <td>No</td>\n",
              "      <td>32.81</td>\n",
              "      <td>No</td>\n",
              "      <td>No</td>\n",
              "      <td>No</td>\n",
              "      <td>0</td>\n",
              "      <td>0</td>\n",
              "      <td>No</td>\n",
              "      <td>Female</td>\n",
              "      <td>25-29</td>\n",
              "      <td>Hispanic</td>\n",
              "      <td>No</td>\n",
              "      <td>No</td>\n",
              "      <td>Good</td>\n",
              "      <td>12</td>\n",
              "      <td>No</td>\n",
              "      <td>No</td>\n",
              "      <td>No</td>\n",
              "    </tr>\n",
              "    <tr>\n",
              "      <th>319794</th>\n",
              "      <td>No</td>\n",
              "      <td>46.56</td>\n",
              "      <td>No</td>\n",
              "      <td>No</td>\n",
              "      <td>No</td>\n",
              "      <td>0</td>\n",
              "      <td>0</td>\n",
              "      <td>No</td>\n",
              "      <td>Female</td>\n",
              "      <td>80 or older</td>\n",
              "      <td>Hispanic</td>\n",
              "      <td>No</td>\n",
              "      <td>Yes</td>\n",
              "      <td>Good</td>\n",
              "      <td>8</td>\n",
              "      <td>No</td>\n",
              "      <td>No</td>\n",
              "      <td>No</td>\n",
              "    </tr>\n",
              "  </tbody>\n",
              "</table>\n",
              "<p>319795 rows × 18 columns</p>\n",
              "</div>\n",
              "      <button class=\"colab-df-convert\" onclick=\"convertToInteractive('df-d56637ff-8676-41c6-bd30-9c951d2b4a95')\"\n",
              "              title=\"Convert this dataframe to an interactive table.\"\n",
              "              style=\"display:none;\">\n",
              "        \n",
              "  <svg xmlns=\"http://www.w3.org/2000/svg\" height=\"24px\"viewBox=\"0 0 24 24\"\n",
              "       width=\"24px\">\n",
              "    <path d=\"M0 0h24v24H0V0z\" fill=\"none\"/>\n",
              "    <path d=\"M18.56 5.44l.94 2.06.94-2.06 2.06-.94-2.06-.94-.94-2.06-.94 2.06-2.06.94zm-11 1L8.5 8.5l.94-2.06 2.06-.94-2.06-.94L8.5 2.5l-.94 2.06-2.06.94zm10 10l.94 2.06.94-2.06 2.06-.94-2.06-.94-.94-2.06-.94 2.06-2.06.94z\"/><path d=\"M17.41 7.96l-1.37-1.37c-.4-.4-.92-.59-1.43-.59-.52 0-1.04.2-1.43.59L10.3 9.45l-7.72 7.72c-.78.78-.78 2.05 0 2.83L4 21.41c.39.39.9.59 1.41.59.51 0 1.02-.2 1.41-.59l7.78-7.78 2.81-2.81c.8-.78.8-2.07 0-2.86zM5.41 20L4 18.59l7.72-7.72 1.47 1.35L5.41 20z\"/>\n",
              "  </svg>\n",
              "      </button>\n",
              "      \n",
              "  <style>\n",
              "    .colab-df-container {\n",
              "      display:flex;\n",
              "      flex-wrap:wrap;\n",
              "      gap: 12px;\n",
              "    }\n",
              "\n",
              "    .colab-df-convert {\n",
              "      background-color: #E8F0FE;\n",
              "      border: none;\n",
              "      border-radius: 50%;\n",
              "      cursor: pointer;\n",
              "      display: none;\n",
              "      fill: #1967D2;\n",
              "      height: 32px;\n",
              "      padding: 0 0 0 0;\n",
              "      width: 32px;\n",
              "    }\n",
              "\n",
              "    .colab-df-convert:hover {\n",
              "      background-color: #E2EBFA;\n",
              "      box-shadow: 0px 1px 2px rgba(60, 64, 67, 0.3), 0px 1px 3px 1px rgba(60, 64, 67, 0.15);\n",
              "      fill: #174EA6;\n",
              "    }\n",
              "\n",
              "    [theme=dark] .colab-df-convert {\n",
              "      background-color: #3B4455;\n",
              "      fill: #D2E3FC;\n",
              "    }\n",
              "\n",
              "    [theme=dark] .colab-df-convert:hover {\n",
              "      background-color: #434B5C;\n",
              "      box-shadow: 0px 1px 3px 1px rgba(0, 0, 0, 0.15);\n",
              "      filter: drop-shadow(0px 1px 2px rgba(0, 0, 0, 0.3));\n",
              "      fill: #FFFFFF;\n",
              "    }\n",
              "  </style>\n",
              "\n",
              "      <script>\n",
              "        const buttonEl =\n",
              "          document.querySelector('#df-d56637ff-8676-41c6-bd30-9c951d2b4a95 button.colab-df-convert');\n",
              "        buttonEl.style.display =\n",
              "          google.colab.kernel.accessAllowed ? 'block' : 'none';\n",
              "\n",
              "        async function convertToInteractive(key) {\n",
              "          const element = document.querySelector('#df-d56637ff-8676-41c6-bd30-9c951d2b4a95');\n",
              "          const dataTable =\n",
              "            await google.colab.kernel.invokeFunction('convertToInteractive',\n",
              "                                                     [key], {});\n",
              "          if (!dataTable) return;\n",
              "\n",
              "          const docLinkHtml = 'Like what you see? Visit the ' +\n",
              "            '<a target=\"_blank\" href=https://colab.research.google.com/notebooks/data_table.ipynb>data table notebook</a>'\n",
              "            + ' to learn more about interactive tables.';\n",
              "          element.innerHTML = '';\n",
              "          dataTable['output_type'] = 'display_data';\n",
              "          await google.colab.output.renderOutput(dataTable, element);\n",
              "          const docLink = document.createElement('div');\n",
              "          docLink.innerHTML = docLinkHtml;\n",
              "          element.appendChild(docLink);\n",
              "        }\n",
              "      </script>\n",
              "    </div>\n",
              "  </div>\n",
              "  "
            ],
            "text/plain": [
              "       HeartDisease    BMI Smoking AlcoholDrinking Stroke  PhysicalHealth  \\\n",
              "0                No  16.60     Yes              No     No               3   \n",
              "1                No  20.34      No              No    Yes               0   \n",
              "2                No  26.58     Yes              No     No              20   \n",
              "3                No  24.21      No              No     No               0   \n",
              "4                No  23.71      No              No     No              28   \n",
              "...             ...    ...     ...             ...    ...             ...   \n",
              "319790          Yes  27.41     Yes              No     No               7   \n",
              "319791           No  29.84     Yes              No     No               0   \n",
              "319792           No  24.24      No              No     No               0   \n",
              "319793           No  32.81      No              No     No               0   \n",
              "319794           No  46.56      No              No     No               0   \n",
              "\n",
              "        MentalHealth DiffWalking     Sex  AgeCategory      Race Diabetic  \\\n",
              "0                 30          No  Female        55-59     White      Yes   \n",
              "1                  0          No  Female  80 or older     White       No   \n",
              "2                 30          No    Male        65-69     White      Yes   \n",
              "3                  0          No  Female        75-79     White       No   \n",
              "4                  0         Yes  Female        40-44     White       No   \n",
              "...              ...         ...     ...          ...       ...      ...   \n",
              "319790             0         Yes    Male        60-64  Hispanic      Yes   \n",
              "319791             0          No    Male        35-39  Hispanic       No   \n",
              "319792             0          No  Female        45-49  Hispanic       No   \n",
              "319793             0          No  Female        25-29  Hispanic       No   \n",
              "319794             0          No  Female  80 or older  Hispanic       No   \n",
              "\n",
              "       PhysicalActivity  GenHealth  SleepTime Asthma KidneyDisease SkinCancer  \n",
              "0                   Yes  Very good          5    Yes            No        Yes  \n",
              "1                   Yes  Very good          7     No            No         No  \n",
              "2                   Yes       Fair          8    Yes            No         No  \n",
              "3                    No       Good          6     No            No        Yes  \n",
              "4                   Yes  Very good          8     No            No         No  \n",
              "...                 ...        ...        ...    ...           ...        ...  \n",
              "319790               No       Fair          6    Yes            No         No  \n",
              "319791              Yes  Very good          5    Yes            No         No  \n",
              "319792              Yes       Good          6     No            No         No  \n",
              "319793               No       Good         12     No            No         No  \n",
              "319794              Yes       Good          8     No            No         No  \n",
              "\n",
              "[319795 rows x 18 columns]"
            ]
          },
          "metadata": {},
          "execution_count": 3
        }
      ]
    },
    {
      "cell_type": "code",
      "source": [
        "#qué columnas tienen los datos?\n",
        "datos.columns"
      ],
      "metadata": {
        "id": "-COy04tXzsI0",
        "colab": {
          "base_uri": "https://localhost:8080/"
        },
        "outputId": "1f02464b-4986-452c-cfe9-9d9f4c9d3b9e"
      },
      "execution_count": null,
      "outputs": [
        {
          "output_type": "execute_result",
          "data": {
            "text/plain": [
              "Index(['HeartDisease', 'BMI', 'Smoking', 'AlcoholDrinking', 'Stroke',\n",
              "       'PhysicalHealth', 'MentalHealth', 'DiffWalking', 'Sex', 'AgeCategory',\n",
              "       'Race', 'Diabetic', 'PhysicalActivity', 'GenHealth', 'SleepTime',\n",
              "       'Asthma', 'KidneyDisease', 'SkinCancer'],\n",
              "      dtype='object')"
            ]
          },
          "metadata": {},
          "execution_count": 4
        }
      ]
    },
    {
      "cell_type": "code",
      "source": [
        "#Qué tamaño tienen los datos?\n",
        "datos.shape"
      ],
      "metadata": {
        "id": "mbiIg8nMzuLX",
        "colab": {
          "base_uri": "https://localhost:8080/"
        },
        "outputId": "278afc33-8ae6-4b72-d0e9-4aaf26aeed9d"
      },
      "execution_count": null,
      "outputs": [
        {
          "output_type": "execute_result",
          "data": {
            "text/plain": [
              "(319795, 18)"
            ]
          },
          "metadata": {},
          "execution_count": 5
        }
      ]
    },
    {
      "cell_type": "code",
      "source": [
        "#Hay valores nulos en los datos?\n",
        "datos.info ()"
      ],
      "metadata": {
        "id": "n0bA70Psz2Og",
        "colab": {
          "base_uri": "https://localhost:8080/"
        },
        "outputId": "36e841f4-e0e6-4743-95d7-6cbbea72e599"
      },
      "execution_count": null,
      "outputs": [
        {
          "output_type": "stream",
          "name": "stdout",
          "text": [
            "<class 'pandas.core.frame.DataFrame'>\n",
            "RangeIndex: 319795 entries, 0 to 319794\n",
            "Data columns (total 18 columns):\n",
            " #   Column            Non-Null Count   Dtype  \n",
            "---  ------            --------------   -----  \n",
            " 0   HeartDisease      319795 non-null  object \n",
            " 1   BMI               319795 non-null  float64\n",
            " 2   Smoking           319795 non-null  object \n",
            " 3   AlcoholDrinking   319795 non-null  object \n",
            " 4   Stroke            319795 non-null  object \n",
            " 5   PhysicalHealth    319795 non-null  int64  \n",
            " 6   MentalHealth      319795 non-null  int64  \n",
            " 7   DiffWalking       319795 non-null  object \n",
            " 8   Sex               319795 non-null  object \n",
            " 9   AgeCategory       319795 non-null  object \n",
            " 10  Race              319795 non-null  object \n",
            " 11  Diabetic          319795 non-null  object \n",
            " 12  PhysicalActivity  319795 non-null  object \n",
            " 13  GenHealth         319795 non-null  object \n",
            " 14  SleepTime         319795 non-null  int64  \n",
            " 15  Asthma            319795 non-null  object \n",
            " 16  KidneyDisease     319795 non-null  object \n",
            " 17  SkinCancer        319795 non-null  object \n",
            "dtypes: float64(1), int64(3), object(14)\n",
            "memory usage: 43.9+ MB\n"
          ]
        }
      ]
    },
    {
      "cell_type": "markdown",
      "source": [
        "# 2. Anáisis de datos general"
      ],
      "metadata": {
        "id": "85Tm0g5Jd2b1"
      }
    },
    {
      "cell_type": "code",
      "source": [
        "datos.describe ()"
      ],
      "metadata": {
        "id": "BUripQQvz6Jj",
        "colab": {
          "base_uri": "https://localhost:8080/",
          "height": 300
        },
        "outputId": "110c438e-7cc1-4430-e4f9-d4a63bd44765"
      },
      "execution_count": null,
      "outputs": [
        {
          "output_type": "execute_result",
          "data": {
            "text/html": [
              "\n",
              "  <div id=\"df-a74270e0-b939-4a19-9a09-1c2b78f9966d\">\n",
              "    <div class=\"colab-df-container\">\n",
              "      <div>\n",
              "<style scoped>\n",
              "    .dataframe tbody tr th:only-of-type {\n",
              "        vertical-align: middle;\n",
              "    }\n",
              "\n",
              "    .dataframe tbody tr th {\n",
              "        vertical-align: top;\n",
              "    }\n",
              "\n",
              "    .dataframe thead th {\n",
              "        text-align: right;\n",
              "    }\n",
              "</style>\n",
              "<table border=\"1\" class=\"dataframe\">\n",
              "  <thead>\n",
              "    <tr style=\"text-align: right;\">\n",
              "      <th></th>\n",
              "      <th>BMI</th>\n",
              "      <th>PhysicalHealth</th>\n",
              "      <th>MentalHealth</th>\n",
              "      <th>SleepTime</th>\n",
              "    </tr>\n",
              "  </thead>\n",
              "  <tbody>\n",
              "    <tr>\n",
              "      <th>count</th>\n",
              "      <td>319795.000000</td>\n",
              "      <td>319795.00000</td>\n",
              "      <td>319795.000000</td>\n",
              "      <td>319795.000000</td>\n",
              "    </tr>\n",
              "    <tr>\n",
              "      <th>mean</th>\n",
              "      <td>28.325399</td>\n",
              "      <td>3.37171</td>\n",
              "      <td>3.898366</td>\n",
              "      <td>7.097075</td>\n",
              "    </tr>\n",
              "    <tr>\n",
              "      <th>std</th>\n",
              "      <td>6.356100</td>\n",
              "      <td>7.95085</td>\n",
              "      <td>7.955235</td>\n",
              "      <td>1.436007</td>\n",
              "    </tr>\n",
              "    <tr>\n",
              "      <th>min</th>\n",
              "      <td>12.020000</td>\n",
              "      <td>0.00000</td>\n",
              "      <td>0.000000</td>\n",
              "      <td>1.000000</td>\n",
              "    </tr>\n",
              "    <tr>\n",
              "      <th>25%</th>\n",
              "      <td>24.030000</td>\n",
              "      <td>0.00000</td>\n",
              "      <td>0.000000</td>\n",
              "      <td>6.000000</td>\n",
              "    </tr>\n",
              "    <tr>\n",
              "      <th>50%</th>\n",
              "      <td>27.340000</td>\n",
              "      <td>0.00000</td>\n",
              "      <td>0.000000</td>\n",
              "      <td>7.000000</td>\n",
              "    </tr>\n",
              "    <tr>\n",
              "      <th>75%</th>\n",
              "      <td>31.420000</td>\n",
              "      <td>2.00000</td>\n",
              "      <td>3.000000</td>\n",
              "      <td>8.000000</td>\n",
              "    </tr>\n",
              "    <tr>\n",
              "      <th>max</th>\n",
              "      <td>94.850000</td>\n",
              "      <td>30.00000</td>\n",
              "      <td>30.000000</td>\n",
              "      <td>24.000000</td>\n",
              "    </tr>\n",
              "  </tbody>\n",
              "</table>\n",
              "</div>\n",
              "      <button class=\"colab-df-convert\" onclick=\"convertToInteractive('df-a74270e0-b939-4a19-9a09-1c2b78f9966d')\"\n",
              "              title=\"Convert this dataframe to an interactive table.\"\n",
              "              style=\"display:none;\">\n",
              "        \n",
              "  <svg xmlns=\"http://www.w3.org/2000/svg\" height=\"24px\"viewBox=\"0 0 24 24\"\n",
              "       width=\"24px\">\n",
              "    <path d=\"M0 0h24v24H0V0z\" fill=\"none\"/>\n",
              "    <path d=\"M18.56 5.44l.94 2.06.94-2.06 2.06-.94-2.06-.94-.94-2.06-.94 2.06-2.06.94zm-11 1L8.5 8.5l.94-2.06 2.06-.94-2.06-.94L8.5 2.5l-.94 2.06-2.06.94zm10 10l.94 2.06.94-2.06 2.06-.94-2.06-.94-.94-2.06-.94 2.06-2.06.94z\"/><path d=\"M17.41 7.96l-1.37-1.37c-.4-.4-.92-.59-1.43-.59-.52 0-1.04.2-1.43.59L10.3 9.45l-7.72 7.72c-.78.78-.78 2.05 0 2.83L4 21.41c.39.39.9.59 1.41.59.51 0 1.02-.2 1.41-.59l7.78-7.78 2.81-2.81c.8-.78.8-2.07 0-2.86zM5.41 20L4 18.59l7.72-7.72 1.47 1.35L5.41 20z\"/>\n",
              "  </svg>\n",
              "      </button>\n",
              "      \n",
              "  <style>\n",
              "    .colab-df-container {\n",
              "      display:flex;\n",
              "      flex-wrap:wrap;\n",
              "      gap: 12px;\n",
              "    }\n",
              "\n",
              "    .colab-df-convert {\n",
              "      background-color: #E8F0FE;\n",
              "      border: none;\n",
              "      border-radius: 50%;\n",
              "      cursor: pointer;\n",
              "      display: none;\n",
              "      fill: #1967D2;\n",
              "      height: 32px;\n",
              "      padding: 0 0 0 0;\n",
              "      width: 32px;\n",
              "    }\n",
              "\n",
              "    .colab-df-convert:hover {\n",
              "      background-color: #E2EBFA;\n",
              "      box-shadow: 0px 1px 2px rgba(60, 64, 67, 0.3), 0px 1px 3px 1px rgba(60, 64, 67, 0.15);\n",
              "      fill: #174EA6;\n",
              "    }\n",
              "\n",
              "    [theme=dark] .colab-df-convert {\n",
              "      background-color: #3B4455;\n",
              "      fill: #D2E3FC;\n",
              "    }\n",
              "\n",
              "    [theme=dark] .colab-df-convert:hover {\n",
              "      background-color: #434B5C;\n",
              "      box-shadow: 0px 1px 3px 1px rgba(0, 0, 0, 0.15);\n",
              "      filter: drop-shadow(0px 1px 2px rgba(0, 0, 0, 0.3));\n",
              "      fill: #FFFFFF;\n",
              "    }\n",
              "  </style>\n",
              "\n",
              "      <script>\n",
              "        const buttonEl =\n",
              "          document.querySelector('#df-a74270e0-b939-4a19-9a09-1c2b78f9966d button.colab-df-convert');\n",
              "        buttonEl.style.display =\n",
              "          google.colab.kernel.accessAllowed ? 'block' : 'none';\n",
              "\n",
              "        async function convertToInteractive(key) {\n",
              "          const element = document.querySelector('#df-a74270e0-b939-4a19-9a09-1c2b78f9966d');\n",
              "          const dataTable =\n",
              "            await google.colab.kernel.invokeFunction('convertToInteractive',\n",
              "                                                     [key], {});\n",
              "          if (!dataTable) return;\n",
              "\n",
              "          const docLinkHtml = 'Like what you see? Visit the ' +\n",
              "            '<a target=\"_blank\" href=https://colab.research.google.com/notebooks/data_table.ipynb>data table notebook</a>'\n",
              "            + ' to learn more about interactive tables.';\n",
              "          element.innerHTML = '';\n",
              "          dataTable['output_type'] = 'display_data';\n",
              "          await google.colab.output.renderOutput(dataTable, element);\n",
              "          const docLink = document.createElement('div');\n",
              "          docLink.innerHTML = docLinkHtml;\n",
              "          element.appendChild(docLink);\n",
              "        }\n",
              "      </script>\n",
              "    </div>\n",
              "  </div>\n",
              "  "
            ],
            "text/plain": [
              "                 BMI  PhysicalHealth   MentalHealth      SleepTime\n",
              "count  319795.000000    319795.00000  319795.000000  319795.000000\n",
              "mean       28.325399         3.37171       3.898366       7.097075\n",
              "std         6.356100         7.95085       7.955235       1.436007\n",
              "min        12.020000         0.00000       0.000000       1.000000\n",
              "25%        24.030000         0.00000       0.000000       6.000000\n",
              "50%        27.340000         0.00000       0.000000       7.000000\n",
              "75%        31.420000         2.00000       3.000000       8.000000\n",
              "max        94.850000        30.00000      30.000000      24.000000"
            ]
          },
          "metadata": {},
          "execution_count": 7
        }
      ]
    },
    {
      "cell_type": "code",
      "source": [
        "datos.groupby(['HeartDisease']).count()['BMI']"
      ],
      "metadata": {
        "id": "hrGmBbDu5yRQ",
        "colab": {
          "base_uri": "https://localhost:8080/"
        },
        "outputId": "687f1205-e775-4ba1-d7f7-f0bca0eea261"
      },
      "execution_count": null,
      "outputs": [
        {
          "output_type": "execute_result",
          "data": {
            "text/plain": [
              "HeartDisease\n",
              "No     292422\n",
              "Yes     27373\n",
              "Name: BMI, dtype: int64"
            ]
          },
          "metadata": {},
          "execution_count": 8
        }
      ]
    },
    {
      "cell_type": "code",
      "source": [
        "#total número de casos de 319794 pacientes\n",
        "casos=np.array(datos['HeartDisease']=='Yes')\n",
        "casos.sum()"
      ],
      "metadata": {
        "id": "3urxKMOk0OL_",
        "colab": {
          "base_uri": "https://localhost:8080/"
        },
        "outputId": "6b0e94dc-0536-4f86-a658-7dd56b6e2bad"
      },
      "execution_count": null,
      "outputs": [
        {
          "output_type": "execute_result",
          "data": {
            "text/plain": [
              "27373"
            ]
          },
          "metadata": {},
          "execution_count": 9
        }
      ]
    },
    {
      "cell_type": "markdown",
      "source": [
        "# 3. Estudio casos en hombres y mujeres - enfermedad\n"
      ],
      "metadata": {
        "id": "UnwDkuKnZgzn"
      }
    },
    {
      "cell_type": "code",
      "source": [
        "datos.groupby(['Sex','HeartDisease']).count()['BMI']"
      ],
      "metadata": {
        "id": "dBApvdkh6gwB",
        "colab": {
          "base_uri": "https://localhost:8080/"
        },
        "outputId": "a4a38512-ca8f-4cc4-dac0-71282b7c737a"
      },
      "execution_count": null,
      "outputs": [
        {
          "output_type": "execute_result",
          "data": {
            "text/plain": [
              "Sex     HeartDisease\n",
              "Female  No              156571\n",
              "        Yes              11234\n",
              "Male    No              135851\n",
              "        Yes              16139\n",
              "Name: BMI, dtype: int64"
            ]
          },
          "metadata": {},
          "execution_count": 10
        }
      ]
    },
    {
      "cell_type": "code",
      "source": [
        "#total número de mujeres\n",
        "data_mujeres = datos[(datos['Sex'] == 'Female')]\n",
        "#aislamos data mujeres"
      ],
      "metadata": {
        "id": "8OhhRv8j06LY"
      },
      "execution_count": null,
      "outputs": []
    },
    {
      "cell_type": "code",
      "source": [
        "#total número de hombres\n",
        "data_hombres = datos[(datos['Sex'] == 'Male')]\n",
        "#aislamos data hombres"
      ],
      "metadata": {
        "id": "x6R4C_Kp7XOs"
      },
      "execution_count": null,
      "outputs": []
    },
    {
      "cell_type": "code",
      "source": [
        "group_sex=datos.groupby(['HeartDisease','Sex']).count()['BMI']\n",
        "print(group_sex)\n",
        "(group_sex.unstack(level=0).plot.bar())\n",
        "plt.title(\"Sex - Heart Disease\")\n",
        "plt.show()\n"
      ],
      "metadata": {
        "id": "2xpIZg-F7d5q",
        "colab": {
          "base_uri": "https://localhost:8080/",
          "height": 425
        },
        "outputId": "f12299d2-c7c5-4b62-c8eb-73104c74381d"
      },
      "execution_count": null,
      "outputs": [
        {
          "output_type": "stream",
          "name": "stdout",
          "text": [
            "HeartDisease  Sex   \n",
            "No            Female    156571\n",
            "              Male      135851\n",
            "Yes           Female     11234\n",
            "              Male       16139\n",
            "Name: BMI, dtype: int64\n"
          ]
        },
        {
          "output_type": "display_data",
          "data": {
            "image/png": "[encoded data removed]",
            "text/plain": [
              "<Figure size 432x288 with 1 Axes>"
            ]
          },
          "metadata": {
            "needs_background": "light"
          }
        }
      ]
    },
    {
      "cell_type": "code",
      "source": [
        "colors = plt.get_cmap('Blues')(np.linspace(0.2, 0.7, len(group_sex)))\n",
        "fig, ax = plt.subplots()\n",
        "labels = 'F NO DISEASE','M NO DISEASE', 'F DISEASE','M DISEASE'\n",
        "\n",
        "ax.pie(group_sex, labels=labels, colors=colors, radius=3, center=(4, 4),\n",
        "       wedgeprops={\"linewidth\": 1, \"edgecolor\": \"white\"}, frame=True)\n",
        "ax.set(xlim=(0, 8), xticks=np.arange(1, 8),\n",
        "       ylim=(0, 8), yticks=np.arange(1, 8))\n",
        "plt.title(\"Sex - Heart Disease\")\n",
        "plt.show()"
      ],
      "metadata": {
        "id": "kfnaxGuRKR4x",
        "colab": {
          "base_uri": "https://localhost:8080/",
          "height": 281
        },
        "outputId": "675f7662-a8e7-4156-f8d0-5bcdbdcc8f5d"
      },
      "execution_count": null,
      "outputs": [
        {
          "output_type": "display_data",
          "data": {
            "image/png": "[encoded data removed]",
            "text/plain": [
              "<Figure size 432x288 with 1 Axes>"
            ]
          },
          "metadata": {
            "needs_background": "light"
          }
        }
      ]
    },
    {
      "cell_type": "code",
      "source": [
        "#la proporción de enfermedad cardiovascular en hombres es ligeramente mayor"
      ],
      "metadata": {
        "id": "MQ5uOnon4bex"
      },
      "execution_count": null,
      "outputs": []
    },
    {
      "cell_type": "markdown",
      "source": [
        "# 4. Relación edad - enfermedad\n"
      ],
      "metadata": {
        "id": "j4qtV3R1461L"
      }
    },
    {
      "cell_type": "code",
      "source": [
        "data_enfermos = datos[(datos['HeartDisease'] == 'Yes')]\n",
        "data_enfermos\n",
        "#aislamos las personas enfermas "
      ],
      "metadata": {
        "id": "2vz98FBO5HaF",
        "colab": {
          "base_uri": "https://localhost:8080/",
          "height": 424
        },
        "outputId": "2e5892d0-126c-4761-b0d0-e60d040bf68b"
      },
      "execution_count": null,
      "outputs": [
        {
          "output_type": "execute_result",
          "data": {
            "text/html": [
              "\n",
              "  <div id=\"df-920cde20-7163-452c-b033-8a5c7a0a98a8\">\n",
              "    <div class=\"colab-df-container\">\n",
              "      <div>\n",
              "<style scoped>\n",
              "    .dataframe tbody tr th:only-of-type {\n",
              "        vertical-align: middle;\n",
              "    }\n",
              "\n",
              "    .dataframe tbody tr th {\n",
              "        vertical-align: top;\n",
              "    }\n",
              "\n",
              "    .dataframe thead th {\n",
              "        text-align: right;\n",
              "    }\n",
              "</style>\n",
              "<table border=\"1\" class=\"dataframe\">\n",
              "  <thead>\n",
              "    <tr style=\"text-align: right;\">\n",
              "      <th></th>\n",
              "      <th>HeartDisease</th>\n",
              "      <th>BMI</th>\n",
              "      <th>Smoking</th>\n",
              "      <th>AlcoholDrinking</th>\n",
              "      <th>Stroke</th>\n",
              "      <th>PhysicalHealth</th>\n",
              "      <th>MentalHealth</th>\n",
              "      <th>DiffWalking</th>\n",
              "      <th>Sex</th>\n",
              "      <th>AgeCategory</th>\n",
              "      <th>Race</th>\n",
              "      <th>Diabetic</th>\n",
              "      <th>PhysicalActivity</th>\n",
              "      <th>GenHealth</th>\n",
              "      <th>SleepTime</th>\n",
              "      <th>Asthma</th>\n",
              "      <th>KidneyDisease</th>\n",
              "      <th>SkinCancer</th>\n",
              "    </tr>\n",
              "  </thead>\n",
              "  <tbody>\n",
              "    <tr>\n",
              "      <th>5</th>\n",
              "      <td>Yes</td>\n",
              "      <td>28.87</td>\n",
              "      <td>Yes</td>\n",
              "      <td>No</td>\n",
              "      <td>No</td>\n",
              "      <td>6</td>\n",
              "      <td>0</td>\n",
              "      <td>Yes</td>\n",
              "      <td>Female</td>\n",
              "      <td>75-79</td>\n",
              "      <td>Black</td>\n",
              "      <td>No</td>\n",
              "      <td>No</td>\n",
              "      <td>Fair</td>\n",
              "      <td>12</td>\n",
              "      <td>No</td>\n",
              "      <td>No</td>\n",
              "      <td>No</td>\n",
              "    </tr>\n",
              "    <tr>\n",
              "      <th>10</th>\n",
              "      <td>Yes</td>\n",
              "      <td>34.30</td>\n",
              "      <td>Yes</td>\n",
              "      <td>No</td>\n",
              "      <td>No</td>\n",
              "      <td>30</td>\n",
              "      <td>0</td>\n",
              "      <td>Yes</td>\n",
              "      <td>Male</td>\n",
              "      <td>60-64</td>\n",
              "      <td>White</td>\n",
              "      <td>Yes</td>\n",
              "      <td>No</td>\n",
              "      <td>Poor</td>\n",
              "      <td>15</td>\n",
              "      <td>Yes</td>\n",
              "      <td>No</td>\n",
              "      <td>No</td>\n",
              "    </tr>\n",
              "    <tr>\n",
              "      <th>35</th>\n",
              "      <td>Yes</td>\n",
              "      <td>32.98</td>\n",
              "      <td>Yes</td>\n",
              "      <td>No</td>\n",
              "      <td>Yes</td>\n",
              "      <td>10</td>\n",
              "      <td>0</td>\n",
              "      <td>Yes</td>\n",
              "      <td>Male</td>\n",
              "      <td>75-79</td>\n",
              "      <td>White</td>\n",
              "      <td>Yes</td>\n",
              "      <td>Yes</td>\n",
              "      <td>Poor</td>\n",
              "      <td>4</td>\n",
              "      <td>No</td>\n",
              "      <td>No</td>\n",
              "      <td>Yes</td>\n",
              "    </tr>\n",
              "    <tr>\n",
              "      <th>42</th>\n",
              "      <td>Yes</td>\n",
              "      <td>25.06</td>\n",
              "      <td>No</td>\n",
              "      <td>No</td>\n",
              "      <td>No</td>\n",
              "      <td>0</td>\n",
              "      <td>0</td>\n",
              "      <td>Yes</td>\n",
              "      <td>Female</td>\n",
              "      <td>80 or older</td>\n",
              "      <td>White</td>\n",
              "      <td>Yes</td>\n",
              "      <td>No</td>\n",
              "      <td>Good</td>\n",
              "      <td>7</td>\n",
              "      <td>No</td>\n",
              "      <td>No</td>\n",
              "      <td>Yes</td>\n",
              "    </tr>\n",
              "    <tr>\n",
              "      <th>43</th>\n",
              "      <td>Yes</td>\n",
              "      <td>30.23</td>\n",
              "      <td>Yes</td>\n",
              "      <td>No</td>\n",
              "      <td>No</td>\n",
              "      <td>6</td>\n",
              "      <td>2</td>\n",
              "      <td>Yes</td>\n",
              "      <td>Female</td>\n",
              "      <td>75-79</td>\n",
              "      <td>White</td>\n",
              "      <td>Yes</td>\n",
              "      <td>Yes</td>\n",
              "      <td>Fair</td>\n",
              "      <td>8</td>\n",
              "      <td>No</td>\n",
              "      <td>Yes</td>\n",
              "      <td>No</td>\n",
              "    </tr>\n",
              "    <tr>\n",
              "      <th>...</th>\n",
              "      <td>...</td>\n",
              "      <td>...</td>\n",
              "      <td>...</td>\n",
              "      <td>...</td>\n",
              "      <td>...</td>\n",
              "      <td>...</td>\n",
              "      <td>...</td>\n",
              "      <td>...</td>\n",
              "      <td>...</td>\n",
              "      <td>...</td>\n",
              "      <td>...</td>\n",
              "      <td>...</td>\n",
              "      <td>...</td>\n",
              "      <td>...</td>\n",
              "      <td>...</td>\n",
              "      <td>...</td>\n",
              "      <td>...</td>\n",
              "      <td>...</td>\n",
              "    </tr>\n",
              "    <tr>\n",
              "      <th>319765</th>\n",
              "      <td>Yes</td>\n",
              "      <td>38.45</td>\n",
              "      <td>No</td>\n",
              "      <td>No</td>\n",
              "      <td>Yes</td>\n",
              "      <td>30</td>\n",
              "      <td>15</td>\n",
              "      <td>Yes</td>\n",
              "      <td>Female</td>\n",
              "      <td>55-59</td>\n",
              "      <td>Hispanic</td>\n",
              "      <td>Yes</td>\n",
              "      <td>Yes</td>\n",
              "      <td>Poor</td>\n",
              "      <td>6</td>\n",
              "      <td>Yes</td>\n",
              "      <td>No</td>\n",
              "      <td>No</td>\n",
              "    </tr>\n",
              "    <tr>\n",
              "      <th>319767</th>\n",
              "      <td>Yes</td>\n",
              "      <td>36.21</td>\n",
              "      <td>Yes</td>\n",
              "      <td>No</td>\n",
              "      <td>No</td>\n",
              "      <td>0</td>\n",
              "      <td>0</td>\n",
              "      <td>Yes</td>\n",
              "      <td>Female</td>\n",
              "      <td>75-79</td>\n",
              "      <td>Hispanic</td>\n",
              "      <td>Yes</td>\n",
              "      <td>Yes</td>\n",
              "      <td>Good</td>\n",
              "      <td>8</td>\n",
              "      <td>No</td>\n",
              "      <td>No</td>\n",
              "      <td>No</td>\n",
              "    </tr>\n",
              "    <tr>\n",
              "      <th>319781</th>\n",
              "      <td>Yes</td>\n",
              "      <td>37.12</td>\n",
              "      <td>Yes</td>\n",
              "      <td>No</td>\n",
              "      <td>No</td>\n",
              "      <td>0</td>\n",
              "      <td>0</td>\n",
              "      <td>No</td>\n",
              "      <td>Male</td>\n",
              "      <td>35-39</td>\n",
              "      <td>Hispanic</td>\n",
              "      <td>No</td>\n",
              "      <td>Yes</td>\n",
              "      <td>Very good</td>\n",
              "      <td>7</td>\n",
              "      <td>No</td>\n",
              "      <td>No</td>\n",
              "      <td>No</td>\n",
              "    </tr>\n",
              "    <tr>\n",
              "      <th>319786</th>\n",
              "      <td>Yes</td>\n",
              "      <td>33.20</td>\n",
              "      <td>Yes</td>\n",
              "      <td>No</td>\n",
              "      <td>No</td>\n",
              "      <td>0</td>\n",
              "      <td>0</td>\n",
              "      <td>No</td>\n",
              "      <td>Female</td>\n",
              "      <td>60-64</td>\n",
              "      <td>Hispanic</td>\n",
              "      <td>Yes</td>\n",
              "      <td>Yes</td>\n",
              "      <td>Very good</td>\n",
              "      <td>8</td>\n",
              "      <td>Yes</td>\n",
              "      <td>No</td>\n",
              "      <td>No</td>\n",
              "    </tr>\n",
              "    <tr>\n",
              "      <th>319790</th>\n",
              "      <td>Yes</td>\n",
              "      <td>27.41</td>\n",
              "      <td>Yes</td>\n",
              "      <td>No</td>\n",
              "      <td>No</td>\n",
              "      <td>7</td>\n",
              "      <td>0</td>\n",
              "      <td>Yes</td>\n",
              "      <td>Male</td>\n",
              "      <td>60-64</td>\n",
              "      <td>Hispanic</td>\n",
              "      <td>Yes</td>\n",
              "      <td>No</td>\n",
              "      <td>Fair</td>\n",
              "      <td>6</td>\n",
              "      <td>Yes</td>\n",
              "      <td>No</td>\n",
              "      <td>No</td>\n",
              "    </tr>\n",
              "  </tbody>\n",
              "</table>\n",
              "<p>27373 rows × 18 columns</p>\n",
              "</div>\n",
              "      <button class=\"colab-df-convert\" onclick=\"convertToInteractive('df-920cde20-7163-452c-b033-8a5c7a0a98a8')\"\n",
              "              title=\"Convert this dataframe to an interactive table.\"\n",
              "              style=\"display:none;\">\n",
              "        \n",
              "  <svg xmlns=\"http://www.w3.org/2000/svg\" height=\"24px\"viewBox=\"0 0 24 24\"\n",
              "       width=\"24px\">\n",
              "    <path d=\"M0 0h24v24H0V0z\" fill=\"none\"/>\n",
              "    <path d=\"M18.56 5.44l.94 2.06.94-2.06 2.06-.94-2.06-.94-.94-2.06-.94 2.06-2.06.94zm-11 1L8.5 8.5l.94-2.06 2.06-.94-2.06-.94L8.5 2.5l-.94 2.06-2.06.94zm10 10l.94 2.06.94-2.06 2.06-.94-2.06-.94-.94-2.06-.94 2.06-2.06.94z\"/><path d=\"M17.41 7.96l-1.37-1.37c-.4-.4-.92-.59-1.43-.59-.52 0-1.04.2-1.43.59L10.3 9.45l-7.72 7.72c-.78.78-.78 2.05 0 2.83L4 21.41c.39.39.9.59 1.41.59.51 0 1.02-.2 1.41-.59l7.78-7.78 2.81-2.81c.8-.78.8-2.07 0-2.86zM5.41 20L4 18.59l7.72-7.72 1.47 1.35L5.41 20z\"/>\n",
              "  </svg>\n",
              "      </button>\n",
              "      \n",
              "  <style>\n",
              "    .colab-df-container {\n",
              "      display:flex;\n",
              "      flex-wrap:wrap;\n",
              "      gap: 12px;\n",
              "    }\n",
              "\n",
              "    .colab-df-convert {\n",
              "      background-color: #E8F0FE;\n",
              "      border: none;\n",
              "      border-radius: 50%;\n",
              "      cursor: pointer;\n",
              "      display: none;\n",
              "      fill: #1967D2;\n",
              "      height: 32px;\n",
              "      padding: 0 0 0 0;\n",
              "      width: 32px;\n",
              "    }\n",
              "\n",
              "    .colab-df-convert:hover {\n",
              "      background-color: #E2EBFA;\n",
              "      box-shadow: 0px 1px 2px rgba(60, 64, 67, 0.3), 0px 1px 3px 1px rgba(60, 64, 67, 0.15);\n",
              "      fill: #174EA6;\n",
              "    }\n",
              "\n",
              "    [theme=dark] .colab-df-convert {\n",
              "      background-color: #3B4455;\n",
              "      fill: #D2E3FC;\n",
              "    }\n",
              "\n",
              "    [theme=dark] .colab-df-convert:hover {\n",
              "      background-color: #434B5C;\n",
              "      box-shadow: 0px 1px 3px 1px rgba(0, 0, 0, 0.15);\n",
              "      filter: drop-shadow(0px 1px 2px rgba(0, 0, 0, 0.3));\n",
              "      fill: #FFFFFF;\n",
              "    }\n",
              "  </style>\n",
              "\n",
              "      <script>\n",
              "        const buttonEl =\n",
              "          document.querySelector('#df-920cde20-7163-452c-b033-8a5c7a0a98a8 button.colab-df-convert');\n",
              "        buttonEl.style.display =\n",
              "          google.colab.kernel.accessAllowed ? 'block' : 'none';\n",
              "\n",
              "        async function convertToInteractive(key) {\n",
              "          const element = document.querySelector('#df-920cde20-7163-452c-b033-8a5c7a0a98a8');\n",
              "          const dataTable =\n",
              "            await google.colab.kernel.invokeFunction('convertToInteractive',\n",
              "                                                     [key], {});\n",
              "          if (!dataTable) return;\n",
              "\n",
              "          const docLinkHtml = 'Like what you see? Visit the ' +\n",
              "            '<a target=\"_blank\" href=https://colab.research.google.com/notebooks/data_table.ipynb>data table notebook</a>'\n",
              "            + ' to learn more about interactive tables.';\n",
              "          element.innerHTML = '';\n",
              "          dataTable['output_type'] = 'display_data';\n",
              "          await google.colab.output.renderOutput(dataTable, element);\n",
              "          const docLink = document.createElement('div');\n",
              "          docLink.innerHTML = docLinkHtml;\n",
              "          element.appendChild(docLink);\n",
              "        }\n",
              "      </script>\n",
              "    </div>\n",
              "  </div>\n",
              "  "
            ],
            "text/plain": [
              "       HeartDisease    BMI Smoking AlcoholDrinking Stroke  PhysicalHealth  \\\n",
              "5               Yes  28.87     Yes              No     No               6   \n",
              "10              Yes  34.30     Yes              No     No              30   \n",
              "35              Yes  32.98     Yes              No    Yes              10   \n",
              "42              Yes  25.06      No              No     No               0   \n",
              "43              Yes  30.23     Yes              No     No               6   \n",
              "...             ...    ...     ...             ...    ...             ...   \n",
              "319765          Yes  38.45      No              No    Yes              30   \n",
              "319767          Yes  36.21     Yes              No     No               0   \n",
              "319781          Yes  37.12     Yes              No     No               0   \n",
              "319786          Yes  33.20     Yes              No     No               0   \n",
              "319790          Yes  27.41     Yes              No     No               7   \n",
              "\n",
              "        MentalHealth DiffWalking     Sex  AgeCategory      Race Diabetic  \\\n",
              "5                  0         Yes  Female        75-79     Black       No   \n",
              "10                 0         Yes    Male        60-64     White      Yes   \n",
              "35                 0         Yes    Male        75-79     White      Yes   \n",
              "42                 0         Yes  Female  80 or older     White      Yes   \n",
              "43                 2         Yes  Female        75-79     White      Yes   \n",
              "...              ...         ...     ...          ...       ...      ...   \n",
              "319765            15         Yes  Female        55-59  Hispanic      Yes   \n",
              "319767             0         Yes  Female        75-79  Hispanic      Yes   \n",
              "319781             0          No    Male        35-39  Hispanic       No   \n",
              "319786             0          No  Female        60-64  Hispanic      Yes   \n",
              "319790             0         Yes    Male        60-64  Hispanic      Yes   \n",
              "\n",
              "       PhysicalActivity  GenHealth  SleepTime Asthma KidneyDisease SkinCancer  \n",
              "5                    No       Fair         12     No            No         No  \n",
              "10                   No       Poor         15    Yes            No         No  \n",
              "35                  Yes       Poor          4     No            No        Yes  \n",
              "42                   No       Good          7     No            No        Yes  \n",
              "43                  Yes       Fair          8     No           Yes         No  \n",
              "...                 ...        ...        ...    ...           ...        ...  \n",
              "319765              Yes       Poor          6    Yes            No         No  \n",
              "319767              Yes       Good          8     No            No         No  \n",
              "319781              Yes  Very good          7     No            No         No  \n",
              "319786              Yes  Very good          8    Yes            No         No  \n",
              "319790               No       Fair          6    Yes            No         No  \n",
              "\n",
              "[27373 rows x 18 columns]"
            ]
          },
          "metadata": {},
          "execution_count": 17
        }
      ]
    },
    {
      "cell_type": "code",
      "source": [
        "#edad personas que tienen la enfermedad \n",
        "plt.figure(figsize=(12, 8))\n",
        "data_enfermos['AgeCategory'].value_counts().plot.bar()"
      ],
      "metadata": {
        "id": "J8TnvXFLbs_-",
        "colab": {
          "base_uri": "https://localhost:8080/",
          "height": 544
        },
        "outputId": "9aa0079e-1cae-4b2c-f81b-982e18009dec"
      },
      "execution_count": null,
      "outputs": [
        {
          "output_type": "execute_result",
          "data": {
            "text/plain": [
              "<matplotlib.axes._subplots.AxesSubplot at 0x7f566c783350>"
            ]
          },
          "metadata": {},
          "execution_count": 18
        },
        {
          "output_type": "display_data",
          "data": {
            "image/png": "[encoded data removed]",
            "text/plain": [
              "<Figure size 864x576 with 1 Axes>"
            ]
          },
          "metadata": {
            "needs_background": "light"
          }
        }
      ]
    },
    {
      "cell_type": "markdown",
      "source": [
        "# 5. Relación fumadores, bebedores - enfermedad\n"
      ],
      "metadata": {
        "id": "AC9s-J9EPvjk"
      }
    },
    {
      "cell_type": "code",
      "source": [
        "group_smoking=datos.groupby(['HeartDisease','Smoking']).count()['BMI']\n",
        "print(group_smoking)\n",
        "(group_smoking.unstack(level=0).plot.bar())\n",
        "plt.show()"
      ],
      "metadata": {
        "id": "CLFOYxYtPvKi",
        "colab": {
          "base_uri": "https://localhost:8080/",
          "height": 389
        },
        "outputId": "7275f7ce-c3bf-4399-f984-5966c1b98d1c"
      },
      "execution_count": null,
      "outputs": [
        {
          "output_type": "stream",
          "name": "stdout",
          "text": [
            "HeartDisease  Smoking\n",
            "No            No         176551\n",
            "              Yes        115871\n",
            "Yes           No          11336\n",
            "              Yes         16037\n",
            "Name: BMI, dtype: int64\n"
          ]
        },
        {
          "output_type": "display_data",
          "data": {
            "image/png": "[encoded data removed]",
            "text/plain": [
              "<Figure size 432x288 with 1 Axes>"
            ]
          },
          "metadata": {
            "needs_background": "light"
          }
        }
      ]
    },
    {
      "cell_type": "code",
      "source": [
        "data_enfermos = datos[(datos['HeartDisease'] == 'Yes')]\n",
        "group_smoking_enf=data_enfermos.groupby(['Smoking']).count()['BMI']\n",
        "group_smoking_enf"
      ],
      "metadata": {
        "id": "XT0pPe8ifcak",
        "colab": {
          "base_uri": "https://localhost:8080/"
        },
        "outputId": "835386b0-6410-41cf-9d31-888fe7c2e6e5"
      },
      "execution_count": null,
      "outputs": [
        {
          "output_type": "execute_result",
          "data": {
            "text/plain": [
              "Smoking\n",
              "No     11336\n",
              "Yes    16037\n",
              "Name: BMI, dtype: int64"
            ]
          },
          "metadata": {},
          "execution_count": 39
        }
      ]
    },
    {
      "cell_type": "code",
      "source": [
        "colors = plt.get_cmap('Reds')(np.linspace(0.2, 0.4, len(group_smoking_enf)))\n",
        "fig, ax = plt.subplots()\n",
        "labels = 'NO SMOKING', 'SMOKING'\n",
        "\n",
        "ax.pie(group_smoking_enf, labels=labels, colors=colors, radius=3, center=(4, 4),\n",
        "       wedgeprops={\"linewidth\": 4, \"edgecolor\": \"white\"}, frame=True)\n",
        "ax.set(xlim=(0, 8), xticks=np.arange(1, 8),\n",
        "       ylim=(0, 8), yticks=np.arange(1, 8))\n",
        "plt.title(\"Smoking or not smoking in people with heart disease\")\n",
        "plt.show()"
      ],
      "metadata": {
        "colab": {
          "base_uri": "https://localhost:8080/",
          "height": 281
        },
        "id": "qupvNQ6elMFS",
        "outputId": "b019f52a-e34e-483a-a478-e2baaf5bde66"
      },
      "execution_count": null,
      "outputs": [
        {
          "output_type": "display_data",
          "data": {
            "image/png": "[encoded data removed]",
            "text/plain": [
              "<Figure size 432x288 with 1 Axes>"
            ]
          },
          "metadata": {
            "needs_background": "light"
          }
        }
      ]
    },
    {
      "cell_type": "code",
      "source": [
        "#si hacemos al revés, si vemos las personas que fuman, el porcentaje de los que tienen enfermedad es mayor al de las personas que no fuman y se ve en el primer gráfico "
      ],
      "metadata": {
        "id": "kX2c-W0RuVV1"
      },
      "execution_count": null,
      "outputs": []
    },
    {
      "cell_type": "code",
      "source": [
        "group_alcohol=datos.groupby(['HeartDisease','AlcoholDrinking']).count()['BMI']\n",
        "print(group_alcohol)\n",
        "(group_alcohol.unstack(level=0).plot.bar())\n",
        "\n",
        "plt.show()"
      ],
      "metadata": {
        "id": "-xX4WXSZQJZu",
        "colab": {
          "base_uri": "https://localhost:8080/",
          "height": 389
        },
        "outputId": "d2ead7ca-22f0-4b8b-9fa3-0ce47d4eadb4"
      },
      "execution_count": null,
      "outputs": [
        {
          "output_type": "stream",
          "name": "stdout",
          "text": [
            "HeartDisease  AlcoholDrinking\n",
            "No            No                 271786\n",
            "              Yes                 20636\n",
            "Yes           No                  26232\n",
            "              Yes                  1141\n",
            "Name: BMI, dtype: int64\n"
          ]
        },
        {
          "output_type": "display_data",
          "data": {
            "image/png": "[encoded data removed]",
            "text/plain": [
              "<Figure size 432x288 with 1 Axes>"
            ]
          },
          "metadata": {
            "needs_background": "light"
          }
        }
      ]
    },
    {
      "cell_type": "code",
      "source": [
        "group_alcohol=datos.groupby(['HeartDisease','AlcoholDrinking','Smoking']).count()['BMI']\n",
        "print(group_alcohol)\n",
        "(group_alcohol.unstack(level=0).plot.bar())\n",
        "plt.show()"
      ],
      "metadata": {
        "id": "lDmhVXlBQyAV",
        "colab": {
          "base_uri": "https://localhost:8080/",
          "height": 489
        },
        "outputId": "13dcfeb7-1040-4171-bcb1-332048cc4833"
      },
      "execution_count": null,
      "outputs": [
        {
          "output_type": "stream",
          "name": "stdout",
          "text": [
            "HeartDisease  AlcoholDrinking  Smoking\n",
            "No            No               No         168440\n",
            "                               Yes        103346\n",
            "              Yes              No           8111\n",
            "                               Yes         12525\n",
            "Yes           No               No          11085\n",
            "                               Yes         15147\n",
            "              Yes              No            251\n",
            "                               Yes           890\n",
            "Name: BMI, dtype: int64\n"
          ]
        },
        {
          "output_type": "display_data",
          "data": {
            "image/png": "[encoded data removed]",
            "text/plain": [
              "<Figure size 432x288 with 1 Axes>"
            ]
          },
          "metadata": {
            "needs_background": "light"
          }
        }
      ]
    },
    {
      "cell_type": "markdown",
      "source": [
        "# 6. Relación Asthma - Enfermedad Cardiovascular"
      ],
      "metadata": {
        "id": "4dMSQnc5eTbq"
      }
    },
    {
      "cell_type": "code",
      "source": [
        "group_asthma=datos.groupby(['HeartDisease','Asthma']).count()['BMI']\n",
        "print(group_asthma)\n",
        "(group_asthma.unstack(level=0).plot.bar())\n",
        "plt.title(\"Asthma - Heart Disease\")\n",
        "plt.show()"
      ],
      "metadata": {
        "id": "aPBYawAMeS73",
        "colab": {
          "base_uri": "https://localhost:8080/",
          "height": 405
        },
        "outputId": "64cde2a8-9bae-4e53-b21a-7b63ee96d6e2"
      },
      "execution_count": null,
      "outputs": [
        {
          "output_type": "stream",
          "name": "stdout",
          "text": [
            "HeartDisease  Asthma\n",
            "No            No        254483\n",
            "              Yes        37939\n",
            "Yes           No         22440\n",
            "              Yes         4933\n",
            "Name: BMI, dtype: int64\n"
          ]
        },
        {
          "output_type": "display_data",
          "data": {
            "image/png": "[encoded data removed]",
            "text/plain": [
              "<Figure size 432x288 with 1 Axes>"
            ]
          },
          "metadata": {
            "needs_background": "light"
          }
        }
      ]
    },
    {
      "cell_type": "code",
      "source": [
        "\n",
        "data_enfermos_asthma = datos[(datos['Asthma'] == 'Yes')]\n",
        "group_enf2=data_enfermos_asthma.groupby(['HeartDisease']).count()['BMI']\n",
        "colors = plt.get_cmap('Greens')(np.linspace(0.2, 0.7, len(group_enf2)))\n",
        "fig, ax = plt.subplots()\n",
        "labels = 'NO HEART DISEASE', 'HEART DISEASE'\n",
        "ax.pie(group_enf2, labels=labels, colors=colors, radius=3, center=(4, 4),\n",
        "       wedgeprops={\"linewidth\": 4, \"edgecolor\": \"white\"}, frame=True)\n",
        "ax.set(xlim=(0, 8), xticks=np.arange(1, 8),\n",
        "       ylim=(0, 8), yticks=np.arange(1, 8))\n",
        "plt.title(\"Heart Disease in people with asthma\")\n",
        "\n",
        "\n",
        "data_noenfermos_asthma = datos[(datos['Asthma'] == 'No')]\n",
        "group_enf3=data_noenfermos_asthma.groupby(['HeartDisease']).count()['BMI']\n",
        "colors = plt.get_cmap('Greens')(np.linspace(0.2, 0.7, len(group_enf3)))\n",
        "fig, ax = plt.subplots()\n",
        "labels = 'NO HEART DISEASE', 'HEART DISEASE'\n",
        "ax.pie(group_enf3, labels=labels, colors=colors, radius=3, center=(4, 4),\n",
        "       wedgeprops={\"linewidth\": 4, \"edgecolor\": \"white\"}, frame=True)\n",
        "ax.set(xlim=(0, 8), xticks=np.arange(1, 8),\n",
        "       ylim=(0, 8), yticks=np.arange(1, 8))\n",
        "plt.title(\"Heart Disease in people with no asthma\")\n",
        "plt.show()"
      ],
      "metadata": {
        "id": "878kYJ9alo60",
        "colab": {
          "base_uri": "https://localhost:8080/",
          "height": 545
        },
        "outputId": "5eacbeab-d960-4137-8228-bac14e1ac76f"
      },
      "execution_count": null,
      "outputs": [
        {
          "output_type": "display_data",
          "data": {
            "image/png": "[encoded data removed]",
            "text/plain": [
              "<Figure size 432x288 with 1 Axes>"
            ]
          },
          "metadata": {
            "needs_background": "light"
          }
        },
        {
          "output_type": "display_data",
          "data": {
            "image/png": "[encoded data removed]",
            "text/plain": [
              "<Figure size 432x288 with 1 Axes>"
            ]
          },
          "metadata": {
            "needs_background": "light"
          }
        }
      ]
    },
    {
      "cell_type": "code",
      "source": [
        "data_enfermos_asthma = datos[(datos['Asthma'] == 'Yes')]\n",
        "data_noenfermos_asthma = datos[(datos['Asthma'] == 'No')]\n",
        "num_enfermos_asthma=data_enfermos_asthma.count()['BMI']\n",
        "num_noenfermos_asthma=data_noenfermos_asthma.count()['BMI']\n",
        "num_enfermos_heart_conasthma = data_enfermos_asthma[(data_enfermos_asthma['HeartDisease'] == 'Yes')].count()['BMI']\n",
        "num_enfermos_heart_sinasthma = data_noenfermos_asthma[(data_noenfermos_asthma['HeartDisease'] == 'Yes')].count()['BMI']\n",
        "p_asthma_heart=(num_enfermos_heart_conasthma/num_enfermos_asthma)*100\n",
        "p_noasthma_heart=(num_enfermos_heart_sinasthma/num_noenfermos_asthma)*100\n",
        "print('Porcentaje enfermedad cardiovascular para personas con asthma:',p_asthma_heart)\n",
        "print('Porcentaje enfermedad cardiovascular para personas sin asthma:',p_noasthma_heart)\n",
        "#OBSERVAMOS QUE CUANDO SE TIENE ASTHMA ES MÁS PROPABLE TENER ENFERMEDAD DARDIOVASCULAR "
      ],
      "metadata": {
        "id": "DF0Hn2MfrKqd",
        "colab": {
          "base_uri": "https://localhost:8080/"
        },
        "outputId": "dabbac81-1571-44b7-889a-efdf4edd011b"
      },
      "execution_count": null,
      "outputs": [
        {
          "output_type": "stream",
          "name": "stdout",
          "text": [
            "Porcentaje enfermedad cardiovascular para personas con asthma: 11.506344467251353\n",
            "Porcentaje enfermedad cardiovascular para personas sin asthma: 8.103335584259884\n"
          ]
        }
      ]
    },
    {
      "cell_type": "markdown",
      "source": [
        "# 7. Relación Diabéticos - Enfermedad Cardiovascular\n"
      ],
      "metadata": {
        "id": "EGp2tYQym2r6"
      }
    },
    {
      "cell_type": "code",
      "source": [
        "group_diabetic=datos.groupby(['HeartDisease','Diabetic']).count()['BMI']\n",
        "print(group_diabetic)\n",
        "(group_diabetic.unstack(level=0).plot.bar())\n",
        "plt.show()"
      ],
      "metadata": {
        "id": "TClocXgjm8o-",
        "colab": {
          "base_uri": "https://localhost:8080/",
          "height": 560
        },
        "outputId": "f7a7df1e-3d51-4305-9e9c-461d711f771a"
      },
      "execution_count": null,
      "outputs": [
        {
          "output_type": "stream",
          "name": "stdout",
          "text": [
            "HeartDisease  Diabetic               \n",
            "No            No                         252134\n",
            "              No, borderline diabetes      5992\n",
            "              Yes                         31845\n",
            "              Yes (during pregnancy)       2451\n",
            "Yes           No                          17519\n",
            "              No, borderline diabetes       789\n",
            "              Yes                          8957\n",
            "              Yes (during pregnancy)        108\n",
            "Name: BMI, dtype: int64\n"
          ]
        },
        {
          "output_type": "display_data",
          "data": {
            "image/png": "[encoded data removed]",
            "text/plain": [
              "<Figure size 432x288 with 1 Axes>"
            ]
          },
          "metadata": {
            "needs_background": "light"
          }
        }
      ]
    },
    {
      "cell_type": "code",
      "source": [
        "#siendo diabético es más probable tener enfermedad cardiovascular?"
      ],
      "metadata": {
        "id": "4jGyWGGrnlHL"
      },
      "execution_count": null,
      "outputs": []
    },
    {
      "cell_type": "code",
      "source": [
        "data_enfermos_diab = datos[(datos['Diabetic'] == 'Yes')]\n",
        "group_diabetic=data_enfermos_diab.groupby(['HeartDisease']).count()['BMI']\n",
        "colors = plt.get_cmap('Purples')(np.linspace(0.2, 0.7, len(group_diabetic)))\n",
        "fig, ax = plt.subplots()\n",
        "labels = 'NO HEART DISEASE', 'HEART DISEASE'\n",
        "\n",
        "ax.pie(group_diabetic, labels=labels, colors=colors, radius=3, center=(4, 4),\n",
        "       wedgeprops={\"linewidth\": 4, \"edgecolor\": \"white\"}, frame=True)\n",
        "ax.set(xlim=(0, 8), xticks=np.arange(1, 8),\n",
        "       ylim=(0, 8), yticks=np.arange(1, 8))\n",
        "plt.title(\"Diabetic people - heart disease\")\n",
        "plt.show()\n",
        "data_noenfermos_diab = datos[(datos['Diabetic'] == 'No')]\n",
        "group_nodiabetic=data_noenfermos_diab.groupby(['HeartDisease']).count()['BMI']\n",
        "colors = plt.get_cmap('Oranges')(np.linspace(0.2, 0.7, len(group_diabetic)))\n",
        "fig, ax = plt.subplots()\n",
        "labels = 'NO HEART DISEASE', 'HEART DISEASE'\n",
        "\n",
        "ax.pie(group_nodiabetic, labels=labels, colors=colors, radius=3, center=(4, 4),\n",
        "       wedgeprops={\"linewidth\": 4, \"edgecolor\": \"white\"}, frame=True)\n",
        "ax.set(xlim=(0, 8), xticks=np.arange(1, 8),\n",
        "       ylim=(0, 8), yticks=np.arange(1, 8))\n",
        "plt.title(\"No diabetic people - heart disease\")\n",
        "plt.show()"
      ],
      "metadata": {
        "id": "_nC7T7OonuPs",
        "colab": {
          "base_uri": "https://localhost:8080/",
          "height": 545
        },
        "outputId": "ae5d05ca-2ae3-4868-ca0c-445944caa845"
      },
      "execution_count": null,
      "outputs": [
        {
          "output_type": "display_data",
          "data": {
            "image/png": "[encoded data removed]",
            "text/plain": [
              "<Figure size 432x288 with 1 Axes>"
            ]
          },
          "metadata": {
            "needs_background": "light"
          }
        },
        {
          "output_type": "display_data",
          "data": {
            "image/png": "[encoded data removed]",
            "text/plain": [
              "<Figure size 432x288 with 1 Axes>"
            ]
          },
          "metadata": {
            "needs_background": "light"
          }
        }
      ]
    },
    {
      "cell_type": "code",
      "source": [
        "data_enfermos_diab = datos[(datos['Diabetic'] == 'Yes')]\n",
        "data_noenfermos_diab = datos[(datos['Diabetic'] == 'No')]\n",
        "num_enfermos_diab=data_enfermos_diab.count()['BMI']\n",
        "num_noenfermos_diab=data_noenfermos_diab.count()['BMI']\n",
        "num_enfermos_heart_condiab = data_enfermos_diab[(data_enfermos_diab['HeartDisease'] == 'Yes')].count()['BMI']\n",
        "num_enfermos_heart_sindiab = data_noenfermos_diab[(data_noenfermos_diab['HeartDisease'] == 'Yes')].count()['BMI']\n",
        "p_diab_heart=(num_enfermos_heart_condiab/num_enfermos_diab)*100\n",
        "p_nodiab_heart=(num_enfermos_heart_sindiab/num_noenfermos_diab)*100\n",
        "print('Porcentaje enfermedad cardiovascular para personas con diabetes:',p_diab_heart)\n",
        "print('Porcentaje enfermedad cardiovascular para personas sin diabetes:',p_nodiab_heart)"
      ],
      "metadata": {
        "id": "CRRS0BpKtfmn",
        "colab": {
          "base_uri": "https://localhost:8080/"
        },
        "outputId": "ccd5d8dd-4fee-4fee-f90c-37c67e684f13"
      },
      "execution_count": null,
      "outputs": [
        {
          "output_type": "stream",
          "name": "stdout",
          "text": [
            "Porcentaje enfermedad cardiovascular para personas con diabetes: 21.952355276702125\n",
            "Porcentaje enfermedad cardiovascular para personas sin diabetes: 6.4968681972757585\n"
          ]
        }
      ]
    },
    {
      "cell_type": "code",
      "source": [
        "#OBSERVAMOS QUE CUANDO SE ES DIABETICO ES MÁS PROBABLE TENER UNA ENFERMEDAD CARDIOVASCULAR QUE CUANDO NO SE ES"
      ],
      "metadata": {
        "id": "5eqrzYiUpD1B"
      },
      "execution_count": null,
      "outputs": []
    },
    {
      "cell_type": "markdown",
      "source": [
        "# 8. Relación BMI - Enfermedad Cardiovascular"
      ],
      "metadata": {
        "id": "qKn8cZDuKmGx"
      }
    },
    {
      "cell_type": "code",
      "source": [
        "data_enfermos = datos[(datos['HeartDisease'] == 'Yes')]\n",
        "data_noenfermos = datos[(datos['HeartDisease'] == 'No')]\n",
        "plt.figure(figsize=(25, 8))\n",
        "repetitios_BMI=data_enfermos['BMI'].value_counts()\n",
        "repetitios_BMI\n"
      ],
      "metadata": {
        "id": "WgNBYYJdKlzl",
        "colab": {
          "base_uri": "https://localhost:8080/",
          "height": 243
        },
        "outputId": "b7ba4bc1-8bf7-4421-9c03-c70a9e86e224"
      },
      "execution_count": null,
      "outputs": [
        {
          "output_type": "execute_result",
          "data": {
            "text/plain": [
              "26.63    293\n",
              "27.12    232\n",
              "29.53    195\n",
              "24.41    189\n",
              "27.44    185\n",
              "        ... \n",
              "47.59      1\n",
              "22.57      1\n",
              "40.56      1\n",
              "41.52      1\n",
              "35.92      1\n",
              "Name: BMI, Length: 2194, dtype: int64"
            ]
          },
          "metadata": {},
          "execution_count": 32
        },
        {
          "output_type": "display_data",
          "data": {
            "text/plain": [
              "<Figure size 1800x576 with 0 Axes>"
            ]
          },
          "metadata": {}
        }
      ]
    },
    {
      "cell_type": "code",
      "source": [
        "#media de \n",
        "BMI_enfermos=np.array(data_enfermos['BMI'])\n",
        "BMI_noenfermos=np.array(data_noenfermos['BMI'])\n",
        "print(BMI_enfermos)\n",
        "print(BMI_noenfermos)\n",
        "print('media enfermos: ',BMI_enfermos.mean())\n",
        "print('media no enfermos: ',BMI_noenfermos.mean())\n",
        "print('std enfermos: ',BMI_enfermos.std())\n",
        "print('std no enfermos: ',BMI_noenfermos.std())"
      ],
      "metadata": {
        "id": "1sNkVU6SY6Lw",
        "colab": {
          "base_uri": "https://localhost:8080/"
        },
        "outputId": "1d1a8e00-daa1-4018-ef42-0d1f703eca00"
      },
      "execution_count": null,
      "outputs": [
        {
          "output_type": "stream",
          "name": "stdout",
          "text": [
            "[28.87 34.3  32.98 ... 37.12 33.2  27.41]\n",
            "[16.6  20.34 26.58 ... 24.24 32.81 46.56]\n",
            "media enfermos:  29.401592079786653\n",
            "media no enfermos:  28.224658336240093\n",
            "std enfermos:  6.5770306497203315\n",
            "std no enfermos:  6.3256493121323505\n"
          ]
        }
      ]
    },
    {
      "cell_type": "code",
      "source": [
        "plt.figure(figsize=(7, 4))\n",
        "plt.hist(BMI_enfermos,bins=10)\n",
        "plt.title(\"BMI in cases of Heart Disease (10 bins)\")\n",
        "plt.show()\n",
        "plt.figure(figsize=(7, 4))\n",
        "plt.hist(BMI_noenfermos,bins=10)\n",
        "plt.title(\"BMI in cases of no Disease (10 bins)\")\n",
        "plt.show()"
      ],
      "metadata": {
        "id": "kSAi0k3CXR36",
        "colab": {
          "base_uri": "https://localhost:8080/",
          "height": 545
        },
        "outputId": "dade0c81-703e-407f-ead8-78aa0bcdfba8"
      },
      "execution_count": null,
      "outputs": [
        {
          "output_type": "display_data",
          "data": {
            "image/png": "[encoded data removed]",
            "text/plain": [
              "<Figure size 504x288 with 1 Axes>"
            ]
          },
          "metadata": {
            "needs_background": "light"
          }
        },
        {
          "output_type": "display_data",
          "data": {
            "image/png": "[encoded data removed]",
            "text/plain": [
              "<Figure size 504x288 with 1 Axes>"
            ]
          },
          "metadata": {
            "needs_background": "light"
          }
        }
      ]
    },
    {
      "cell_type": "code",
      "source": [
        "plt.figure(figsize=(9, 5))\n",
        "plt.hist(BMI_enfermos,bins=200)\n",
        "plt.title(\"BMI in cases of Heart Disease (200 bins)\")\n",
        "plt.show()\n",
        "plt.figure(figsize=(9, 5))\n",
        "plt.hist(BMI_noenfermos,bins=200)\n",
        "plt.title(\"BMI in cases of no Disease (200 bins)\")\n",
        "plt.show()"
      ],
      "metadata": {
        "id": "sx2W2Z-IYYuE",
        "colab": {
          "base_uri": "https://localhost:8080/",
          "height": 655
        },
        "outputId": "2fa33a34-e8e7-4747-f38a-83e8c06aa41b"
      },
      "execution_count": null,
      "outputs": [
        {
          "output_type": "display_data",
          "data": {
            "image/png": "[encoded data removed]",
            "text/plain": [
              "<Figure size 648x360 with 1 Axes>"
            ]
          },
          "metadata": {
            "needs_background": "light"
          }
        },
        {
          "output_type": "display_data",
          "data": {
            "image/png": "[encoded data removed]",
            "text/plain": [
              "<Figure size 648x360 with 1 Axes>"
            ]
          },
          "metadata": {
            "needs_background": "light"
          }
        }
      ]
    },
    {
      "cell_type": "code",
      "source": [
        "#en ambos casos los BMI se concentran en el valor de 30, por lo que no parece que sea el BMI un indicador importante de enfermedades cardiovasculares"
      ],
      "metadata": {
        "id": "owyemEKIcTIm"
      },
      "execution_count": null,
      "outputs": []
    },
    {
      "cell_type": "markdown",
      "source": [
        "# 9. Relación Salud física - Salud mental (ver scatter plot)"
      ],
      "metadata": {
        "id": "ThCbnlu1EWXR"
      }
    },
    {
      "cell_type": "code",
      "source": [
        "datos.plot(kind='scatter', x='PhysicalHealth', y='MentalHealth', \\\n",
        "        color='dodgerblue', figsize=(10,10), s=10, alpha=0.04 )\n",
        "#se observa una concentración en el extremo inferior izquierdo, lo que indica que por lo general una baja salud física va acompañada de una baja salud mental y viceversa\n"
      ],
      "metadata": {
        "id": "fRjv4p1BEm-S",
        "colab": {
          "base_uri": "https://localhost:8080/",
          "height": 623
        },
        "outputId": "123b88ac-0aa2-4042-a4d4-6d536c697811"
      },
      "execution_count": null,
      "outputs": [
        {
          "output_type": "execute_result",
          "data": {
            "text/plain": [
              "<matplotlib.axes._subplots.AxesSubplot at 0x7f567fbf77d0>"
            ]
          },
          "metadata": {},
          "execution_count": 37
        },
        {
          "output_type": "display_data",
          "data": {
            "image/png": "[encoded data removed]",
            "text/plain": [
              "<Figure size 720x720 with 1 Axes>"
            ]
          },
          "metadata": {
            "needs_background": "light"
          }
        }
      ]
    }
  ]
}